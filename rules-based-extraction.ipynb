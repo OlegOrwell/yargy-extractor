{
 "cells": [
  {
   "cell_type": "code",
   "execution_count": 1,
   "metadata": {},
   "outputs": [],
   "source": [
    "#  pip install yargy\n",
    "#  pip install pandas\n",
    "\n",
    "import pandas as pd\n",
    "\n",
    "from yargy.tokenizer import MorphTokenizer\n",
    "from yargy import rule, Parser, or_, and_, not_\n",
    "from yargy.predicates import eq, type as type_, in_, normalized, gram, is_capitalized, dictionary\n",
    "from yargy.pipelines import morph_pipeline\n",
    "from yargy.interpretation import fact\n"
   ]
  },
  {
   "cell_type": "markdown",
   "metadata": {},
   "source": [
    "# Hi there!   In this notebook we will extract data with rule-base yargy parser\n",
    "\n"
   ]
  },
  {
   "cell_type": "markdown",
   "metadata": {},
   "source": [
    "Yargy is an Earley parser similar to Tomita parser. Yargy uses rules and dictionaries to extract structured information from Russian texts. \n",
    "Find more at https://github.com/natasha/yargy"
   ]
  },
  {
   "cell_type": "code",
   "execution_count": 2,
   "metadata": {},
   "outputs": [],
   "source": [
    "df = pd.read_csv(r'test_data.csv')\n"
   ]
  },
  {
   "cell_type": "markdown",
   "metadata": {},
   "source": [
    "First let's briefly check our data, it's shape, integrity and type"
   ]
  },
  {
   "cell_type": "code",
   "execution_count": 3,
   "metadata": {},
   "outputs": [
    {
     "data": {
      "text/plain": [
       "(480, 4)"
      ]
     },
     "execution_count": 3,
     "metadata": {},
     "output_type": "execute_result"
    }
   ],
   "source": [
    "df.shape\n"
   ]
  },
  {
   "cell_type": "code",
   "execution_count": 4,
   "metadata": {},
   "outputs": [
    {
     "data": {
      "text/plain": [
       "dlg_id     int64\n",
       "line_n     int64\n",
       "role      object\n",
       "text      object\n",
       "dtype: object"
      ]
     },
     "execution_count": 4,
     "metadata": {},
     "output_type": "execute_result"
    }
   ],
   "source": [
    "df.dtypes\n"
   ]
  },
  {
   "cell_type": "code",
   "execution_count": 5,
   "metadata": {},
   "outputs": [],
   "source": [
    "assert df.isna().sum().sum() == 0\n"
   ]
  },
  {
   "cell_type": "code",
   "execution_count": 6,
   "metadata": {},
   "outputs": [
    {
     "data": {
      "text/plain": [
       "0"
      ]
     },
     "execution_count": 6,
     "metadata": {},
     "output_type": "execute_result"
    }
   ],
   "source": [
    "df.duplicated().sum()\n"
   ]
  },
  {
   "cell_type": "markdown",
   "metadata": {},
   "source": [
    "So far so good "
   ]
  },
  {
   "cell_type": "markdown",
   "metadata": {},
   "source": [
    "# Now we want to draw a conversation matrix to understand what exactly is the data we a looking for."
   ]
  },
  {
   "cell_type": "code",
   "execution_count": 7,
   "metadata": {},
   "outputs": [],
   "source": [
    "text = [str(k) + \"|\" + str(a) + \"|\" + str(b) + \"|\" + str(c) +\"|\" + str(d) for k, (a, b, c, d) in enumerate(zip(df.dlg_id, df.line_n, df.role, df.text))]"
   ]
  },
  {
   "cell_type": "code",
   "execution_count": 8,
   "metadata": {},
   "outputs": [],
   "source": [
    "#  This is what our task is about: \n",
    "#\n",
    "#  Главные задачи, которые должен выполнять скрипт:\n",
    "#  a) Извлекать реплики с приветствием – где менеджер поздоровался. \n",
    "#  b) Извлекать реплики, где менеджер представил себя. \n",
    "#  c) Извлекать имя менеджера. \n",
    "#  d) Извлекать название компании. \n",
    "#  e) Извлекать реплики, где менеджер попрощался.\n",
    "#  f) Проверять требование к менеджеру: «В каждом диалоге обязательно необходимо поздороваться и попрощаться с клиентом»\n"
   ]
  },
  {
   "cell_type": "markdown",
   "metadata": {},
   "source": [
    "Note: It's not clear how to treat phrases like \"248|2|84|manager|Все хорошо\", '338|5|1|manager|Да это анастасия'.\n",
    "As they are way too unformal. I suppose we are expected to collect formal ones.\n",
    "So for the sake of this task we decide that \"338|5|1|manager|Да это анастасия\" is proper way to say hi and skip others."
   ]
  },
  {
   "cell_type": "code",
   "execution_count": 9,
   "metadata": {},
   "outputs": [],
   "source": [
    "#  Let's explore what manager lines look like, I'm not sure if we can publish them due to task restriction.\n",
    "#  So I'll leave here first few sentences as an example. \n",
    "\n",
    "corpus = ['1|0|1|manager|Алло здравствуйте',\n",
    "'3|0|3|manager|Меня зовут ангелина компания диджитал бизнес звоним вам по поводу продления лицензии а мы с серым у вас скоро срок заканчивается',\n",
    "'108|0|108|manager|Всего хорошего до свидания']\n"
   ]
  },
  {
   "cell_type": "markdown",
   "metadata": {},
   "source": [
    "# We split data by role and look through it to hopefully get insights. "
   ]
  },
  {
   "cell_type": "code",
   "execution_count": 10,
   "metadata": {},
   "outputs": [
    {
     "data": {
      "text/html": [
       "<div>\n",
       "<style scoped>\n",
       "    .dataframe tbody tr th:only-of-type {\n",
       "        vertical-align: middle;\n",
       "    }\n",
       "\n",
       "    .dataframe tbody tr th {\n",
       "        vertical-align: top;\n",
       "    }\n",
       "\n",
       "    .dataframe thead th {\n",
       "        text-align: right;\n",
       "    }\n",
       "</style>\n",
       "<table border=\"1\" class=\"dataframe\">\n",
       "  <thead>\n",
       "    <tr style=\"text-align: right;\">\n",
       "      <th></th>\n",
       "      <th>dlg_id</th>\n",
       "      <th>line_n</th>\n",
       "      <th>role</th>\n",
       "      <th>text</th>\n",
       "    </tr>\n",
       "  </thead>\n",
       "  <tbody>\n",
       "    <tr>\n",
       "      <th>1</th>\n",
       "      <td>0</td>\n",
       "      <td>1</td>\n",
       "      <td>manager</td>\n",
       "      <td>Алло здравствуйте</td>\n",
       "    </tr>\n",
       "    <tr>\n",
       "      <th>3</th>\n",
       "      <td>0</td>\n",
       "      <td>3</td>\n",
       "      <td>manager</td>\n",
       "      <td>Меня зовут ангелина компания диджитал бизнес звоним вам по поводу продления лицензии а мы с серым у вас скоро срок заканчивается</td>\n",
       "    </tr>\n",
       "    <tr>\n",
       "      <th>5</th>\n",
       "      <td>0</td>\n",
       "      <td>5</td>\n",
       "      <td>manager</td>\n",
       "      <td>Угу ну возможно вы рассмотрите и другие варианты видите это хорошая практика сравнивать</td>\n",
       "    </tr>\n",
       "    <tr>\n",
       "      <th>8</th>\n",
       "      <td>0</td>\n",
       "      <td>8</td>\n",
       "      <td>manager</td>\n",
       "      <td>Угу а на что вы обращаете внимание при выборе</td>\n",
       "    </tr>\n",
       "    <tr>\n",
       "      <th>11</th>\n",
       "      <td>0</td>\n",
       "      <td>11</td>\n",
       "      <td>manager</td>\n",
       "      <td>Что для вас приоритет</td>\n",
       "    </tr>\n",
       "  </tbody>\n",
       "</table>\n",
       "</div>"
      ],
      "text/plain": [
       "    dlg_id  line_n     role  \\\n",
       "1        0       1  manager   \n",
       "3        0       3  manager   \n",
       "5        0       5  manager   \n",
       "8        0       8  manager   \n",
       "11       0      11  manager   \n",
       "\n",
       "                                                                                                                                text  \n",
       "1                                                                                                                  Алло здравствуйте  \n",
       "3   Меня зовут ангелина компания диджитал бизнес звоним вам по поводу продления лицензии а мы с серым у вас скоро срок заканчивается  \n",
       "5                                            Угу ну возможно вы рассмотрите и другие варианты видите это хорошая практика сравнивать  \n",
       "8                                                                                      Угу а на что вы обращаете внимание при выборе  \n",
       "11                                                                                                             Что для вас приоритет  "
      ]
     },
     "execution_count": 10,
     "metadata": {},
     "output_type": "execute_result"
    }
   ],
   "source": [
    "pd.set_option('display.max_rows', None)\n",
    "pd.options.display.max_colwidth = 900\n",
    "df[df.role=='manager'].head()\n"
   ]
  },
  {
   "cell_type": "code",
   "execution_count": 11,
   "metadata": {},
   "outputs": [
    {
     "data": {
      "text/html": [
       "<div>\n",
       "<style scoped>\n",
       "    .dataframe tbody tr th:only-of-type {\n",
       "        vertical-align: middle;\n",
       "    }\n",
       "\n",
       "    .dataframe tbody tr th {\n",
       "        vertical-align: top;\n",
       "    }\n",
       "\n",
       "    .dataframe thead th {\n",
       "        text-align: right;\n",
       "    }\n",
       "</style>\n",
       "<table border=\"1\" class=\"dataframe\">\n",
       "  <thead>\n",
       "    <tr style=\"text-align: right;\">\n",
       "      <th></th>\n",
       "      <th>dlg_id</th>\n",
       "      <th>line_n</th>\n",
       "      <th>role</th>\n",
       "      <th>text</th>\n",
       "    </tr>\n",
       "  </thead>\n",
       "  <tbody>\n",
       "    <tr>\n",
       "      <th>0</th>\n",
       "      <td>0</td>\n",
       "      <td>0</td>\n",
       "      <td>client</td>\n",
       "      <td>Алло</td>\n",
       "    </tr>\n",
       "    <tr>\n",
       "      <th>2</th>\n",
       "      <td>0</td>\n",
       "      <td>2</td>\n",
       "      <td>client</td>\n",
       "      <td>Добрый день</td>\n",
       "    </tr>\n",
       "    <tr>\n",
       "      <th>4</th>\n",
       "      <td>0</td>\n",
       "      <td>4</td>\n",
       "      <td>client</td>\n",
       "      <td>Ага</td>\n",
       "    </tr>\n",
       "    <tr>\n",
       "      <th>6</th>\n",
       "      <td>0</td>\n",
       "      <td>6</td>\n",
       "      <td>client</td>\n",
       "      <td>Да мы работаем с компанией которая нам подливает поэтому спасибо огромное</td>\n",
       "    </tr>\n",
       "    <tr>\n",
       "      <th>7</th>\n",
       "      <td>0</td>\n",
       "      <td>7</td>\n",
       "      <td>client</td>\n",
       "      <td>Как как бы уже до этого момента работаем все устраивает + у нас сопровождение поэтому</td>\n",
       "    </tr>\n",
       "  </tbody>\n",
       "</table>\n",
       "</div>"
      ],
      "text/plain": [
       "   dlg_id  line_n    role  \\\n",
       "0       0       0  client   \n",
       "2       0       2  client   \n",
       "4       0       4  client   \n",
       "6       0       6  client   \n",
       "7       0       7  client   \n",
       "\n",
       "                                                                                    text  \n",
       "0                                                                                   Алло  \n",
       "2                                                                            Добрый день  \n",
       "4                                                                                    Ага  \n",
       "6              Да мы работаем с компанией которая нам подливает поэтому спасибо огромное  \n",
       "7  Как как бы уже до этого момента работаем все устраивает + у нас сопровождение поэтому  "
      ]
     },
     "execution_count": 11,
     "metadata": {},
     "output_type": "execute_result"
    }
   ],
   "source": [
    "df[df.role=='client'].head()\n"
   ]
  },
  {
   "cell_type": "markdown",
   "metadata": {},
   "source": [
    "Now we have enough information to draw conversation matrix. "
   ]
  },
  {
   "cell_type": "code",
   "execution_count": null,
   "metadata": {},
   "outputs": [],
   "source": []
  },
  {
   "cell_type": "code",
   "execution_count": null,
   "metadata": {},
   "outputs": [],
   "source": []
  },
  {
   "cell_type": "markdown",
   "metadata": {},
   "source": [
    "# As we developed intuition how our data should look like, we start write rules for our parser. "
   ]
  },
  {
   "cell_type": "markdown",
   "metadata": {},
   "source": [
    "We take to account not only phrases we find in our data set, but also phrases we could find in other possible business conversations.\n",
    "To give our script more generalization power "
   ]
  },
  {
   "cell_type": "markdown",
   "metadata": {},
   "source": [
    "As attributes we use word's part of speech and grammemes."
   ]
  },
  {
   "cell_type": "code",
   "execution_count": 12,
   "metadata": {},
   "outputs": [],
   "source": [
    "#  Rules to find lines where manager says 'Hi'\n",
    "\n",
    "Greet = fact (\n",
    "    'Greet', ['greet']\n",
    ")\n",
    "\n",
    "greet = rule(or_(eq('добрый'), eq('добрый'), eq('доброе')), or_(eq('день'),eq('утро'),eq('вечер')))\n",
    "greet1 = rule(or_(eq('здраствуйте'), eq('привет'), eq('здрасьте'), eq('здраствуй'), eq('здравствуйте'), eq('здравствуй')))\n",
    "greet = or_(greet, greet1).interpretation(Greet.greet).interpretation(Greet)\n",
    "greet  = Parser(greet)\n",
    "\n",
    "#  This includes alot of combinations to say Hi. \n",
    "#  We add few misspelled words. \n",
    "\n",
    "#  This doesn't include informal greetings like \"Приветики\" etc.\n"
   ]
  },
  {
   "cell_type": "code",
   "execution_count": 13,
   "metadata": {},
   "outputs": [],
   "source": [
    "#  Rules to find lines where manager inroduces himself\n",
    "\n",
    "Manager = fact(\n",
    "    \"Manager\", [\"name\"]\n",
    ")\n",
    "\n",
    "Intro = fact(\n",
    "    \"Intro\", [\"phrase\"]\n",
    ")\n",
    "\n",
    "eto = and_(gram('NPRO'), gram('neut'), gram('nomn'), gram('sing'))\n",
    "pers_self = rule(and_(gram('1per'), gram('NPRO'), gram('sing')))\n",
    "pers_call = and_(gram('3per'), gram('VERB'), gram('tran')) \n",
    "pers_surname = rule(gram('Surn').repeatable().optional())\n",
    "pers_first_name = rule(and_(gram('Name'),not_(gram('Abbr'))))\n",
    "pers_name = rule(pers_first_name, pers_surname).interpretation(Manager.name)\n",
    "pers_name1 = rule(pers_first_name, pers_surname)\n",
    "manager = rule(or_(rule(pers_self, pers_call, pers_name), rule(pers_self, pers_name,  pers_call), rule(eto, pers_name)))\n",
    "manager_intro = rule(or_(rule(pers_self, pers_call, pers_name1), rule(pers_self, pers_name1,  pers_call), rule(eto, pers_name1))).interpretation(Intro.phrase)\n",
    "manager_intro = manager_intro.interpretation(Intro)\n",
    "manager = manager.interpretation(Manager)\n",
    "\n",
    "manager = Parser(manager)\n",
    "manager_intro = Parser(manager_intro)\n",
    "\n",
    "\n",
    "# We made sure that name and second name (if manager says one) should have Name, Surname attributes.\n"
   ]
  },
  {
   "cell_type": "code",
   "execution_count": 14,
   "metadata": {},
   "outputs": [],
   "source": [
    "#  Rules to find lines where company name is mentioned \n",
    "\n",
    "Company = fact('Company', ['c_name'])\n",
    "\n",
    "org = gram('Orgn')\n",
    "engl = type_('LATIN')\n",
    "exclude = rule(and_(gram('ADJF'), not_(gram('plur')), not_(gram('Apro'))))\n",
    "comp = rule(or_(eq('компания'), eq('компании'), eq('компанию')))\n",
    "company = rule(comp, or_(and_(gram('NOUN'), not_(gram('PREP')), not_(gram('CONJ'))).repeatable(), exclude), eq('бизнес').optional())\n",
    "company1 = rule(comp, org.repeatable())\n",
    "company2 = rule(comp, engl.repeatable())\n",
    "company = rule(or_(company, company1, company2)).interpretation(Company.c_name)\n",
    "company = company.interpretation(Company)\n",
    "company = Parser(company)\n"
   ]
  },
  {
   "cell_type": "code",
   "execution_count": 15,
   "metadata": {},
   "outputs": [],
   "source": [
    "#  Rules to find lines where manager says 'Good bye' \n",
    "\n",
    "Fare = fact (\n",
    "    'Fare', ['fare']\n",
    ")\n",
    "\n",
    "farewell = rule(eq('всего'), or_(eq('доброго'), eq('хорошего')))\n",
    "farewell1 = rule(or_(eq('удачного'), eq('хорошего')),  or_(eq('дня'), eq('вечера')))\n",
    "farewell2 = rule(eq('доброй'), eq('ночи'))\n",
    "farewell3 = rule(eq('досвидания'))\n",
    "farewell4 = rule(eq('до'), eq('свидания'))\n",
    "farewell = or_(farewell, farewell1, farewell2, farewell3, farewell4).interpretation(Fare.fare).interpretation(Fare)\n",
    "farewell = Parser(farewell)\n"
   ]
  },
  {
   "cell_type": "code",
   "execution_count": 16,
   "metadata": {
    "scrolled": true
   },
   "outputs": [
    {
     "name": "stderr",
     "output_type": "stream",
     "text": [
      "C:\\ProgramData\\Anaconda3\\lib\\site-packages\\pandas\\core\\indexing.py:670: SettingWithCopyWarning: \n",
      "A value is trying to be set on a copy of a slice from a DataFrame\n",
      "\n",
      "See the caveats in the documentation: https://pandas.pydata.org/pandas-docs/stable/user_guide/indexing.html#returning-a-view-versus-a-copy\n",
      "  self._setitem_with_indexer(indexer, value)\n"
     ]
    }
   ],
   "source": [
    "#  Quick note:  I don't use functions here and further to make code look streamlined and easier to read. \n",
    "\n",
    "intro = []\n",
    "result = []\n",
    "\n",
    "df['name'] = False\n",
    "df['greet'] = False\n",
    "df['farewell'] = False\n",
    "df['has_greet'] = False\n",
    "df['is_polite'] = False\n",
    "df['introduction'] = False\n",
    "df['has_farewell'] = False\n",
    "df['company_label'] = False\n",
    "df['has_introduction'] = False\n",
    "df['has_company_label'] = False\n",
    "\n",
    "#  We loop through manager lines and look at each line to find our data of interest.\n",
    "\n",
    "for line in df[df.role=='manager'].iterrows():\n",
    "  \n",
    "    greet_ = list(greet.findall(line[1].text.lower()))\n",
    "    manager_ = list(manager.findall(line[1].text.lower()))\n",
    "    manager_intro_ = list(manager_intro.findall(line[1].text.lower()))\n",
    "    company_ = list(company.findall(line[1].text.lower()))\n",
    "    farewell_ = list(farewell.findall(line[1].text.lower()))\n",
    "\n",
    "    if greet_:   \n",
    "        df['has_greet'].iloc[line[0]] = True\n",
    "        df['greet'].iloc[line[0]] = greet_[0].fact.greet\n",
    "           \n",
    "    if manager_:  \n",
    "        if manager_intro_:\n",
    "            response = manager_intro_[0].fact.phrase\n",
    "            intro.append(response)      \n",
    "        df['has_introduction'].iloc[line[0]] = True\n",
    "        df['introduction'].iloc[line[0]] = response\n",
    "        df['name'].iloc[line[0]] = manager_[0].fact.name\n",
    "    \n",
    "    if company_:  \n",
    "        df['has_company_label'].iloc[line[0]] = True\n",
    "        df['company_label'].iloc[line[0]] = company_[0].fact.c_name\n",
    "    \n",
    "    if farewell_:     \n",
    "        df['has_farewell'].iloc[line[0]] = True\n",
    "        df['farewell'].iloc[line[0]] = farewell_[0].fact.fare\n"
   ]
  },
  {
   "cell_type": "code",
   "execution_count": 17,
   "metadata": {},
   "outputs": [
    {
     "name": "stderr",
     "output_type": "stream",
     "text": [
      "C:\\ProgramData\\Anaconda3\\lib\\site-packages\\ipykernel_launcher.py:16: SettingWithCopyWarning: \n",
      "A value is trying to be set on a copy of a slice from a DataFrame\n",
      "\n",
      "See the caveats in the documentation: https://pandas.pydata.org/pandas-docs/stable/user_guide/indexing.html#returning-a-view-versus-a-copy\n",
      "  app.launch_new_instance()\n",
      "C:\\ProgramData\\Anaconda3\\lib\\site-packages\\ipykernel_launcher.py:17: SettingWithCopyWarning: \n",
      "A value is trying to be set on a copy of a slice from a DataFrame\n",
      "\n",
      "See the caveats in the documentation: https://pandas.pydata.org/pandas-docs/stable/user_guide/indexing.html#returning-a-view-versus-a-copy\n"
     ]
    }
   ],
   "source": [
    "#  Up to the moment we collected all data we need \n",
    "#  Time to find which managers were polite \n",
    "\n",
    "details = []\n",
    "polite_list = []\n",
    "\n",
    "for i in df.dlg_id.unique():   \n",
    "    name_tag = df[(df.dlg_id==i) & (df.name!=False)].name.to_list()\n",
    "    if not name_tag:\n",
    "        name_tag = ['Unknown']\n",
    "    company_tag = df[(df.dlg_id==i) & (df.has_company_label)].company_label.to_list()\n",
    "    if not company_tag:\n",
    "        company_tag = ['UNK']\n",
    "    if (True in df[(df.dlg_id==i) & df.has_greet].has_greet.to_list()) & (True in df[(df.dlg_id==i) & df.has_farewell].has_farewell.to_list()):\n",
    "        is_polite_str = \"\"\n",
    "        df.is_polite[(df.dlg_id==i) & df.has_greet] = True\n",
    "        df.is_polite[(df.dlg_id==i) & df.has_farewell] = True\n",
    "        if name_tag:\n",
    "            polite_list.append(name_tag[0])\n",
    "    else:\n",
    "        is_polite = 'NOT'\n",
    "    sentence = f'Call #{i} manager {name_tag[0].capitalize()} from {company_tag[0]} is {is_polite_str} polite'\n",
    "    details.append(sentence)\n"
   ]
  },
  {
   "cell_type": "code",
   "execution_count": 18,
   "metadata": {},
   "outputs": [
    {
     "data": {
      "text/html": [
       "<div>\n",
       "<style scoped>\n",
       "    .dataframe tbody tr th:only-of-type {\n",
       "        vertical-align: middle;\n",
       "    }\n",
       "\n",
       "    .dataframe tbody tr th {\n",
       "        vertical-align: top;\n",
       "    }\n",
       "\n",
       "    .dataframe thead th {\n",
       "        text-align: right;\n",
       "    }\n",
       "</style>\n",
       "<table border=\"1\" class=\"dataframe\">\n",
       "  <thead>\n",
       "    <tr style=\"text-align: right;\">\n",
       "      <th></th>\n",
       "      <th>dlg_id</th>\n",
       "      <th>line_n</th>\n",
       "      <th>role</th>\n",
       "      <th>text</th>\n",
       "      <th>name</th>\n",
       "      <th>greet</th>\n",
       "      <th>farewell</th>\n",
       "      <th>has_greet</th>\n",
       "      <th>is_polite</th>\n",
       "      <th>introduction</th>\n",
       "      <th>has_farewell</th>\n",
       "      <th>company_label</th>\n",
       "      <th>has_introduction</th>\n",
       "      <th>has_company_label</th>\n",
       "    </tr>\n",
       "  </thead>\n",
       "  <tbody>\n",
       "    <tr>\n",
       "      <th>1</th>\n",
       "      <td>0</td>\n",
       "      <td>1</td>\n",
       "      <td>manager</td>\n",
       "      <td>Алло здравствуйте</td>\n",
       "      <td>False</td>\n",
       "      <td>здравствуйте</td>\n",
       "      <td>False</td>\n",
       "      <td>True</td>\n",
       "      <td>True</td>\n",
       "      <td>False</td>\n",
       "      <td>False</td>\n",
       "      <td>False</td>\n",
       "      <td>False</td>\n",
       "      <td>False</td>\n",
       "    </tr>\n",
       "    <tr>\n",
       "      <th>108</th>\n",
       "      <td>0</td>\n",
       "      <td>108</td>\n",
       "      <td>manager</td>\n",
       "      <td>Всего хорошего до свидания</td>\n",
       "      <td>False</td>\n",
       "      <td>False</td>\n",
       "      <td>всего хорошего</td>\n",
       "      <td>False</td>\n",
       "      <td>True</td>\n",
       "      <td>False</td>\n",
       "      <td>True</td>\n",
       "      <td>False</td>\n",
       "      <td>False</td>\n",
       "      <td>False</td>\n",
       "    </tr>\n",
       "    <tr>\n",
       "      <th>110</th>\n",
       "      <td>1</td>\n",
       "      <td>1</td>\n",
       "      <td>manager</td>\n",
       "      <td>Алло здравствуйте</td>\n",
       "      <td>False</td>\n",
       "      <td>здравствуйте</td>\n",
       "      <td>False</td>\n",
       "      <td>True</td>\n",
       "      <td>True</td>\n",
       "      <td>False</td>\n",
       "      <td>False</td>\n",
       "      <td>False</td>\n",
       "      <td>False</td>\n",
       "      <td>False</td>\n",
       "    </tr>\n",
       "    <tr>\n",
       "      <th>162</th>\n",
       "      <td>1</td>\n",
       "      <td>53</td>\n",
       "      <td>manager</td>\n",
       "      <td>Угу да вижу я эту почту хорошо тогда исправлю на эту будем ждать ответа всего хорошего</td>\n",
       "      <td>False</td>\n",
       "      <td>False</td>\n",
       "      <td>всего хорошего</td>\n",
       "      <td>False</td>\n",
       "      <td>True</td>\n",
       "      <td>False</td>\n",
       "      <td>True</td>\n",
       "      <td>False</td>\n",
       "      <td>False</td>\n",
       "      <td>False</td>\n",
       "    </tr>\n",
       "    <tr>\n",
       "      <th>163</th>\n",
       "      <td>1</td>\n",
       "      <td>54</td>\n",
       "      <td>manager</td>\n",
       "      <td>До свидания</td>\n",
       "      <td>False</td>\n",
       "      <td>False</td>\n",
       "      <td>до свидания</td>\n",
       "      <td>False</td>\n",
       "      <td>True</td>\n",
       "      <td>False</td>\n",
       "      <td>True</td>\n",
       "      <td>False</td>\n",
       "      <td>False</td>\n",
       "      <td>False</td>\n",
       "    </tr>\n",
       "  </tbody>\n",
       "</table>\n",
       "</div>"
      ],
      "text/plain": [
       "     dlg_id  line_n     role  \\\n",
       "1         0       1  manager   \n",
       "108       0     108  manager   \n",
       "110       1       1  manager   \n",
       "162       1      53  manager   \n",
       "163       1      54  manager   \n",
       "\n",
       "                                                                                       text  \\\n",
       "1                                                                         Алло здравствуйте   \n",
       "108                                                              Всего хорошего до свидания   \n",
       "110                                                                       Алло здравствуйте   \n",
       "162  Угу да вижу я эту почту хорошо тогда исправлю на эту будем ждать ответа всего хорошего   \n",
       "163                                                                             До свидания   \n",
       "\n",
       "      name         greet        farewell  has_greet  is_polite introduction  \\\n",
       "1    False  здравствуйте           False       True       True        False   \n",
       "108  False         False  всего хорошего      False       True        False   \n",
       "110  False  здравствуйте           False       True       True        False   \n",
       "162  False         False  всего хорошего      False       True        False   \n",
       "163  False         False     до свидания      False       True        False   \n",
       "\n",
       "     has_farewell company_label  has_introduction  has_company_label  \n",
       "1           False         False             False              False  \n",
       "108          True         False             False              False  \n",
       "110         False         False             False              False  \n",
       "162          True         False             False              False  \n",
       "163          True         False             False              False  "
      ]
     },
     "execution_count": 18,
     "metadata": {},
     "output_type": "execute_result"
    }
   ],
   "source": [
    "#  We can use df[df.is_polite] command to see greeting and farewell lines of polite managers.\n",
    "\n",
    "df[df.is_polite].head() \n"
   ]
  },
  {
   "cell_type": "markdown",
   "metadata": {},
   "source": [
    "\n"
   ]
  },
  {
   "cell_type": "markdown",
   "metadata": {},
   "source": [
    "# Now we can give answers the task asks:"
   ]
  },
  {
   "cell_type": "markdown",
   "metadata": {},
   "source": [
    "a) Извлекать реплики с приветствием – где менеджер поздоровался."
   ]
  },
  {
   "cell_type": "code",
   "execution_count": 19,
   "metadata": {},
   "outputs": [
    {
     "data": {
      "text/plain": [
       "['здравствуйте', 'здравствуйте', 'здравствуйте', 'добрый день']"
      ]
     },
     "execution_count": 19,
     "metadata": {},
     "output_type": "execute_result"
    }
   ],
   "source": [
    "df[df.has_greet].greet.to_list()\n"
   ]
  },
  {
   "cell_type": "code",
   "execution_count": 20,
   "metadata": {},
   "outputs": [],
   "source": [
    "#  'здравствуйте', 'здравствуйте', 'здравствуйте', 'добрый день'\n"
   ]
  },
  {
   "cell_type": "markdown",
   "metadata": {},
   "source": [
    "b) Извлекать реплики, где менеджер представил себя."
   ]
  },
  {
   "cell_type": "code",
   "execution_count": 21,
   "metadata": {},
   "outputs": [
    {
     "data": {
      "text/plain": [
       "['Меня зовут ангелина компания диджитал бизнес звоним вам по поводу продления лицензии а мы с серым у вас скоро срок заканчивается',\n",
       " 'Меня зовут ангелина компания диджитал бизнес звоню вам по поводу продления а мы сели обратила внимание что у вас срок заканчивается',\n",
       " 'Меня зовут ангелина компания диджитал бизнес звоню вам по поводу продления лицензии а мастера мы с вами сотрудничали по видео там',\n",
       " 'Добрый меня максим зовут компания китобизнес удобно говорить',\n",
       " 'Да это анастасия']"
      ]
     },
     "execution_count": 21,
     "metadata": {},
     "output_type": "execute_result"
    }
   ],
   "source": [
    "#  Full line where manager introduces herself\n",
    "\n",
    "df[df.has_introduction].text.to_list()\n"
   ]
  },
  {
   "cell_type": "code",
   "execution_count": 22,
   "metadata": {},
   "outputs": [],
   "source": [
    "#  'Меня зовут ангелина компания диджитал бизнес звоним вам по поводу продления лицензии а мы с серым у вас скоро срок заканчивается',\n",
    "#  'Меня зовут ангелина компания диджитал бизнес звоню вам по поводу продления а мы сели обратила внимание что у вас срок заканчивается',\n",
    "#  'Меня зовут ангелина компания диджитал бизнес звоню вам по поводу продления лицензии а мастера мы с вами сотрудничали по видео там',\n",
    "#  'Добрый меня максим зовут компания китобизнес удобно говорить'\n"
   ]
  },
  {
   "cell_type": "code",
   "execution_count": 23,
   "metadata": {},
   "outputs": [
    {
     "data": {
      "text/plain": [
       "['меня зовут ангелина',\n",
       " 'меня зовут ангелина',\n",
       " 'меня зовут ангелина',\n",
       " 'меня максим зовут',\n",
       " 'это анастасия']"
      ]
     },
     "execution_count": 23,
     "metadata": {},
     "output_type": "execute_result"
    }
   ],
   "source": [
    "#  Exact introduction words\n",
    "\n",
    "intro\n"
   ]
  },
  {
   "cell_type": "code",
   "execution_count": 24,
   "metadata": {},
   "outputs": [],
   "source": [
    "#  'меня зовут ангелина',\n",
    "#  'меня зовут ангелина',\n",
    "#  'меня зовут ангелина',\n",
    "#  'меня максим зовут',\n",
    "#  'это анастасия'\n"
   ]
  },
  {
   "cell_type": "markdown",
   "metadata": {},
   "source": [
    "c) Извлекать имя менеджера. "
   ]
  },
  {
   "cell_type": "code",
   "execution_count": 25,
   "metadata": {},
   "outputs": [
    {
     "data": {
      "text/plain": [
       "['ангелина', 'ангелина', 'ангелина', 'максим', 'анастасия']"
      ]
     },
     "execution_count": 25,
     "metadata": {},
     "output_type": "execute_result"
    }
   ],
   "source": [
    "df[df.name!=False].name.to_list()\n"
   ]
  },
  {
   "cell_type": "code",
   "execution_count": 26,
   "metadata": {},
   "outputs": [],
   "source": [
    "#  'ангелина', 'ангелина', 'ангелина', 'максим', 'анастасия'\n"
   ]
  },
  {
   "cell_type": "markdown",
   "metadata": {},
   "source": [
    "d) Извлекать название компании. "
   ]
  },
  {
   "cell_type": "code",
   "execution_count": 27,
   "metadata": {},
   "outputs": [
    {
     "data": {
      "text/plain": [
       "['компания диджитал бизнес',\n",
       " 'компания диджитал бизнес',\n",
       " 'компания диджитал бизнес',\n",
       " 'компания китобизнес']"
      ]
     },
     "execution_count": 27,
     "metadata": {},
     "output_type": "execute_result"
    }
   ],
   "source": [
    "df[df.company_label!=False].company_label.to_list()\n"
   ]
  },
  {
   "cell_type": "code",
   "execution_count": 28,
   "metadata": {},
   "outputs": [],
   "source": [
    "#  'компания диджитал бизнес',\n",
    "#  'компания диджитал бизнес',\n",
    "#  'компания диджитал бизнес',\n",
    "#  'компания китобизнес'\n"
   ]
  },
  {
   "cell_type": "markdown",
   "metadata": {},
   "source": [
    "e) Извлекать реплики, где менеджер попрощался."
   ]
  },
  {
   "cell_type": "code",
   "execution_count": 29,
   "metadata": {},
   "outputs": [
    {
     "data": {
      "text/plain": [
       "['всего хорошего',\n",
       " 'всего хорошего',\n",
       " 'до свидания',\n",
       " 'всего доброго',\n",
       " 'до свидания',\n",
       " 'до свидания']"
      ]
     },
     "execution_count": 29,
     "metadata": {},
     "output_type": "execute_result"
    }
   ],
   "source": [
    "df[df.has_farewell].farewell.to_list()\n"
   ]
  },
  {
   "cell_type": "code",
   "execution_count": 30,
   "metadata": {},
   "outputs": [],
   "source": [
    "#  'Всего хорошего до свидания',\n",
    "#  'Угу да вижу я эту почту хорошо тогда исправлю на эту будем ждать ответа всего хорошего',\n",
    "#  'До свидания',\n",
    "#  'Угу все хорошо да понедельника тогда всего доброго',\n",
    "#  'Во вторник все ну с вами да тогда до вторника до свидания',\n",
    "#  'Ну до свидания хорошего вечера'\n"
   ]
  },
  {
   "cell_type": "markdown",
   "metadata": {},
   "source": [
    "f) Проверять требование к менеджеру: «В каждом диалоге обязательно необходимо поздороваться и попрощаться с клиентом»"
   ]
  },
  {
   "cell_type": "code",
   "execution_count": 31,
   "metadata": {},
   "outputs": [
    {
     "data": {
      "text/plain": [
       "['Call #0 manager Ангелина from компания диджитал бизнес is  polite',\n",
       " 'Call #1 manager Ангелина from компания диджитал бизнес is  polite',\n",
       " 'Call #2 manager Ангелина from компания диджитал бизнес is  polite',\n",
       " 'Call #3 manager Максим from компания китобизнес is  polite',\n",
       " 'Call #4 manager Unknown from UNK is  polite',\n",
       " 'Call #5 manager Анастасия from UNK is  polite']"
      ]
     },
     "execution_count": 31,
     "metadata": {},
     "output_type": "execute_result"
    }
   ],
   "source": [
    "details\n"
   ]
  },
  {
   "cell_type": "code",
   "execution_count": 32,
   "metadata": {},
   "outputs": [],
   "source": [
    "#  'Call #0 manager Ангелина from компания диджитал бизнес is  polite',\n",
    "#  'Call #1 manager Ангелина from компания диджитал бизнес is  polite',\n",
    "#  'Call #2 manager Ангелина from компания диджитал бизнес is NOT polite',\n",
    "#  'Call #3 manager Максим from компания китобизнес is  polite',\n",
    "#  'Call #4 manager Unknown from UNK is NOT polite',\n",
    "#  'Call #5 manager Анастасия from UNK is NOT polite'\n"
   ]
  },
  {
   "cell_type": "markdown",
   "metadata": {},
   "source": [
    "# Now let's compare our results with our matrix we draw in the beginning. \n",
    "# Hooray, we found all relevant data. "
   ]
  },
  {
   "cell_type": "markdown",
   "metadata": {},
   "source": [
    "For convenience extracted data stores in pandas data frame, so we can look all the data we found with respect to it's dialog id, line number and so on any time"
   ]
  },
  {
   "cell_type": "code",
   "execution_count": 33,
   "metadata": {},
   "outputs": [
    {
     "data": {
      "text/html": [
       "<div>\n",
       "<style scoped>\n",
       "    .dataframe tbody tr th:only-of-type {\n",
       "        vertical-align: middle;\n",
       "    }\n",
       "\n",
       "    .dataframe tbody tr th {\n",
       "        vertical-align: top;\n",
       "    }\n",
       "\n",
       "    .dataframe thead th {\n",
       "        text-align: right;\n",
       "    }\n",
       "</style>\n",
       "<table border=\"1\" class=\"dataframe\">\n",
       "  <thead>\n",
       "    <tr style=\"text-align: right;\">\n",
       "      <th></th>\n",
       "      <th>dlg_id</th>\n",
       "      <th>line_n</th>\n",
       "      <th>role</th>\n",
       "      <th>text</th>\n",
       "      <th>name</th>\n",
       "      <th>greet</th>\n",
       "      <th>farewell</th>\n",
       "      <th>has_greet</th>\n",
       "      <th>is_polite</th>\n",
       "      <th>introduction</th>\n",
       "      <th>has_farewell</th>\n",
       "      <th>company_label</th>\n",
       "      <th>has_introduction</th>\n",
       "      <th>has_company_label</th>\n",
       "    </tr>\n",
       "  </thead>\n",
       "  <tbody>\n",
       "    <tr>\n",
       "      <th>0</th>\n",
       "      <td>0</td>\n",
       "      <td>0</td>\n",
       "      <td>client</td>\n",
       "      <td>Алло</td>\n",
       "      <td>False</td>\n",
       "      <td>False</td>\n",
       "      <td>False</td>\n",
       "      <td>False</td>\n",
       "      <td>False</td>\n",
       "      <td>False</td>\n",
       "      <td>False</td>\n",
       "      <td>False</td>\n",
       "      <td>False</td>\n",
       "      <td>False</td>\n",
       "    </tr>\n",
       "    <tr>\n",
       "      <th>1</th>\n",
       "      <td>0</td>\n",
       "      <td>1</td>\n",
       "      <td>manager</td>\n",
       "      <td>Алло здравствуйте</td>\n",
       "      <td>False</td>\n",
       "      <td>здравствуйте</td>\n",
       "      <td>False</td>\n",
       "      <td>True</td>\n",
       "      <td>True</td>\n",
       "      <td>False</td>\n",
       "      <td>False</td>\n",
       "      <td>False</td>\n",
       "      <td>False</td>\n",
       "      <td>False</td>\n",
       "    </tr>\n",
       "    <tr>\n",
       "      <th>2</th>\n",
       "      <td>0</td>\n",
       "      <td>2</td>\n",
       "      <td>client</td>\n",
       "      <td>Добрый день</td>\n",
       "      <td>False</td>\n",
       "      <td>False</td>\n",
       "      <td>False</td>\n",
       "      <td>False</td>\n",
       "      <td>False</td>\n",
       "      <td>False</td>\n",
       "      <td>False</td>\n",
       "      <td>False</td>\n",
       "      <td>False</td>\n",
       "      <td>False</td>\n",
       "    </tr>\n",
       "    <tr>\n",
       "      <th>3</th>\n",
       "      <td>0</td>\n",
       "      <td>3</td>\n",
       "      <td>manager</td>\n",
       "      <td>Меня зовут ангелина компания диджитал бизнес звоним вам по поводу продления лицензии а мы с серым у вас скоро срок заканчивается</td>\n",
       "      <td>ангелина</td>\n",
       "      <td>False</td>\n",
       "      <td>False</td>\n",
       "      <td>False</td>\n",
       "      <td>False</td>\n",
       "      <td>меня зовут ангелина</td>\n",
       "      <td>False</td>\n",
       "      <td>компания диджитал бизнес</td>\n",
       "      <td>True</td>\n",
       "      <td>True</td>\n",
       "    </tr>\n",
       "    <tr>\n",
       "      <th>4</th>\n",
       "      <td>0</td>\n",
       "      <td>4</td>\n",
       "      <td>client</td>\n",
       "      <td>Ага</td>\n",
       "      <td>False</td>\n",
       "      <td>False</td>\n",
       "      <td>False</td>\n",
       "      <td>False</td>\n",
       "      <td>False</td>\n",
       "      <td>False</td>\n",
       "      <td>False</td>\n",
       "      <td>False</td>\n",
       "      <td>False</td>\n",
       "      <td>False</td>\n",
       "    </tr>\n",
       "  </tbody>\n",
       "</table>\n",
       "</div>"
      ],
      "text/plain": [
       "   dlg_id  line_n     role  \\\n",
       "0       0       0   client   \n",
       "1       0       1  manager   \n",
       "2       0       2   client   \n",
       "3       0       3  manager   \n",
       "4       0       4   client   \n",
       "\n",
       "                                                                                                                               text  \\\n",
       "0                                                                                                                              Алло   \n",
       "1                                                                                                                 Алло здравствуйте   \n",
       "2                                                                                                                       Добрый день   \n",
       "3  Меня зовут ангелина компания диджитал бизнес звоним вам по поводу продления лицензии а мы с серым у вас скоро срок заканчивается   \n",
       "4                                                                                                                               Ага   \n",
       "\n",
       "       name         greet farewell  has_greet  is_polite         introduction  \\\n",
       "0     False         False    False      False      False                False   \n",
       "1     False  здравствуйте    False       True       True                False   \n",
       "2     False         False    False      False      False                False   \n",
       "3  ангелина         False    False      False      False  меня зовут ангелина   \n",
       "4     False         False    False      False      False                False   \n",
       "\n",
       "   has_farewell             company_label  has_introduction  has_company_label  \n",
       "0         False                     False             False              False  \n",
       "1         False                     False             False              False  \n",
       "2         False                     False             False              False  \n",
       "3         False  компания диджитал бизнес              True               True  \n",
       "4         False                     False             False              False  "
      ]
     },
     "execution_count": 33,
     "metadata": {},
     "output_type": "execute_result"
    }
   ],
   "source": [
    "df.head()\n"
   ]
  },
  {
   "cell_type": "markdown",
   "metadata": {},
   "source": [
    "# Pros, Cons and Afterthoughts"
   ]
  },
  {
   "cell_type": "markdown",
   "metadata": {},
   "source": [
    "The strong sides of Rule-Based extraction are:\n",
    "    \n",
    "high execution speed and low computational costs\n",
    "    \n",
    "simpleness and cleareness of extracting rules \n",
    "\n",
    "If our data is well structured - therefore has low variance, Rule-Based extraction is all we need.\n",
    "\n",
    "Working process looks like: we write rules, test, evaluate to see what data is not extracted, correct rules, test etc.\n",
    "When our rules cover all test data, we add more data to look how our current set of rules describes it.\n",
    "Then we add new rules, test and so on.\n",
    "\n",
    "\n",
    "    "
   ]
  },
  {
   "cell_type": "markdown",
   "metadata": {},
   "source": [
    "Obviously this means our algorithm has low generalization ability.\n",
    "\n",
    "All the time we will keep finding new exceptions.\n",
    "\n",
    "Is there anything we can do, so we could use less strict rules?\n",
    "\n",
    "Let's find this out and try CRF statistical model in my next notebook.\n",
    "# url placeholder"
   ]
  },
  {
   "cell_type": "markdown",
   "metadata": {},
   "source": [
    "\n",
    "Realy, check this out it's rather interesting"
   ]
  }
 ],
 "metadata": {
  "kernelspec": {
   "display_name": "Python 3",
   "language": "python",
   "name": "python3"
  },
  "language_info": {
   "codemirror_mode": {
    "name": "ipython",
    "version": 3
   },
   "file_extension": ".py",
   "mimetype": "text/x-python",
   "name": "python",
   "nbconvert_exporter": "python",
   "pygments_lexer": "ipython3",
   "version": "3.7.6"
  }
 },
 "nbformat": 4,
 "nbformat_minor": 4
}
